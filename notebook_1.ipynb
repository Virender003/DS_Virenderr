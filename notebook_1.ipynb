{
 "cells": [
  {
   "cell_type": "code",
   "execution_count": 11,
   "id": "b3081fbd",
   "metadata": {},
   "outputs": [
    {
     "name": "stdout",
     "output_type": "stream",
     "text": [
      "Requirement already satisfied: python-binance in c:\\users\\virender singh rawat\\anaconda3\\lib\\site-packages (1.0.29)\n",
      "Requirement already satisfied: requests in c:\\users\\virender singh rawat\\anaconda3\\lib\\site-packages (from python-binance) (2.32.3)\n",
      "Requirement already satisfied: six in c:\\users\\virender singh rawat\\anaconda3\\lib\\site-packages (from python-binance) (1.16.0)\n",
      "Requirement already satisfied: dateparser in c:\\users\\virender singh rawat\\anaconda3\\lib\\site-packages (from python-binance) (1.2.2)\n",
      "Requirement already satisfied: aiohttp in c:\\users\\virender singh rawat\\anaconda3\\lib\\site-packages (from python-binance) (3.10.5)\n",
      "Requirement already satisfied: websockets in c:\\users\\virender singh rawat\\anaconda3\\lib\\site-packages (from python-binance) (15.0.1)\n",
      "Requirement already satisfied: pycryptodome in c:\\users\\virender singh rawat\\anaconda3\\lib\\site-packages (from python-binance) (3.23.0)\n",
      "Requirement already satisfied: aiohappyeyeballs>=2.3.0 in c:\\users\\virender singh rawat\\anaconda3\\lib\\site-packages (from aiohttp->python-binance) (2.4.0)\n",
      "Requirement already satisfied: aiosignal>=1.1.2 in c:\\users\\virender singh rawat\\anaconda3\\lib\\site-packages (from aiohttp->python-binance) (1.2.0)\n",
      "Requirement already satisfied: attrs>=17.3.0 in c:\\users\\virender singh rawat\\anaconda3\\lib\\site-packages (from aiohttp->python-binance) (23.1.0)\n",
      "Requirement already satisfied: frozenlist>=1.1.1 in c:\\users\\virender singh rawat\\anaconda3\\lib\\site-packages (from aiohttp->python-binance) (1.4.0)\n",
      "Requirement already satisfied: multidict<7.0,>=4.5 in c:\\users\\virender singh rawat\\anaconda3\\lib\\site-packages (from aiohttp->python-binance) (6.0.4)\n",
      "Requirement already satisfied: yarl<2.0,>=1.0 in c:\\users\\virender singh rawat\\anaconda3\\lib\\site-packages (from aiohttp->python-binance) (1.11.0)\n",
      "Requirement already satisfied: python-dateutil>=2.7.0 in c:\\users\\virender singh rawat\\anaconda3\\lib\\site-packages (from dateparser->python-binance) (2.9.0.post0)\n",
      "Requirement already satisfied: pytz>=2024.2 in c:\\users\\virender singh rawat\\anaconda3\\lib\\site-packages (from dateparser->python-binance) (2025.2)\n",
      "Requirement already satisfied: regex>=2024.9.11 in c:\\users\\virender singh rawat\\anaconda3\\lib\\site-packages (from dateparser->python-binance) (2024.9.11)\n",
      "Requirement already satisfied: tzlocal>=0.2 in c:\\users\\virender singh rawat\\anaconda3\\lib\\site-packages (from dateparser->python-binance) (5.3.1)\n",
      "Requirement already satisfied: charset-normalizer<4,>=2 in c:\\users\\virender singh rawat\\anaconda3\\lib\\site-packages (from requests->python-binance) (3.3.2)\n",
      "Requirement already satisfied: idna<4,>=2.5 in c:\\users\\virender singh rawat\\anaconda3\\lib\\site-packages (from requests->python-binance) (3.7)\n",
      "Requirement already satisfied: urllib3<3,>=1.21.1 in c:\\users\\virender singh rawat\\anaconda3\\lib\\site-packages (from requests->python-binance) (2.2.3)\n",
      "Requirement already satisfied: certifi>=2017.4.17 in c:\\users\\virender singh rawat\\anaconda3\\lib\\site-packages (from requests->python-binance) (2024.8.30)\n",
      "Requirement already satisfied: tzdata in c:\\users\\virender singh rawat\\anaconda3\\lib\\site-packages (from tzlocal>=0.2->dateparser->python-binance) (2023.3)\n"
     ]
    }
   ],
   "source": [
    "# Install the official Binance API wrapper\n",
    "!pip install python-binance\n"
   ]
  },
  {
   "cell_type": "code",
   "execution_count": 12,
   "id": "fa694f36",
   "metadata": {},
   "outputs": [],
   "source": [
    "import logging\n",
    "from binance.client import Client\n",
    "import time"
   ]
  },
  {
   "cell_type": "code",
   "execution_count": 13,
   "id": "e6527d12",
   "metadata": {},
   "outputs": [],
   "source": [
    "# Manually define the constants\n",
    "SIDE_BUY = 'BUY'\n",
    "SIDE_SELL = 'SELL'\n",
    "ORDER_TYPE_MARKET = 'MARKET'\n",
    "ORDER_TYPE_LIMIT = 'LIMIT'\n",
    "ORDER_TYPE_STOP_MARKET = 'STOP_MARKET'\n",
    "TIME_IN_FORCE_GTC = 'GTC'"
   ]
  },
  {
   "cell_type": "code",
   "execution_count": 14,
   "id": "112aede6",
   "metadata": {},
   "outputs": [],
   "source": [
    "# Setup logging for error tracking and order status\n",
    "logging.basicConfig(\n",
    "    filename='bot_log.txt',\n",
    "    level=logging.INFO,\n",
    "    format='%(asctime)s:%(levelname)s:%(message)s'\n",
    ")\n"
   ]
  },
  {
   "cell_type": "code",
   "execution_count": 15,
   "id": "7fe304bd",
   "metadata": {},
   "outputs": [],
   "source": [
    "class BasicBot:\n",
    "    def __init__(self, api_key, api_secret, testnet=True):\n",
    "        self.api_key = api_key\n",
    "        self.api_secret = api_secret\n",
    "        self.base_url = 'https://testnet.binancefuture.com' if testnet else 'https://fapi.binance.com'\n",
    "        \n",
    "        self.client = Client(api_key, api_secret)\n",
    "        self.client.FUTURES_URL = self.base_url\n",
    "\n",
    "    def place_order(self, symbol, side, order_type, quantity, price=None):\n",
    "        try:\n",
    "            if order_type == ORDER_TYPE_MARKET:\n",
    "                order = self.client.futures_create_order(\n",
    "                    symbol=symbol,\n",
    "                    side=side,\n",
    "                    type=ORDER_TYPE_MARKET,\n",
    "                    quantity=quantity\n",
    "                )\n",
    "            elif order_type == ORDER_TYPE_LIMIT:\n",
    "                order = self.client.futures_create_order(\n",
    "                    symbol=symbol,\n",
    "                    side=side,\n",
    "                    type=ORDER_TYPE_LIMIT,\n",
    "                    timeInForce=TIME_IN_FORCE_GTC,\n",
    "                    quantity=quantity,\n",
    "                    price=price\n",
    "                )\n",
    "            elif order_type == ORDER_TYPE_STOP_MARKET:\n",
    "                order = self.client.futures_create_order(\n",
    "                    symbol=symbol,\n",
    "                    side=side,\n",
    "                    type=ORDER_TYPE_STOP_MARKET,\n",
    "                    stopPrice=price,\n",
    "                    quantity=quantity\n",
    "                )\n",
    "            else:\n",
    "                print(\"❌ Unsupported order type\")\n",
    "                return\n",
    "\n",
    "            logging.info(f\"✅ Order placed successfully: {order}\")\n",
    "            print(\"✅ Order Placed:\", order['orderId'])\n",
    "            return order\n",
    "\n",
    "        except Exception as e:\n",
    "            logging.error(f\"❌ Error placing order: {e}\")\n",
    "            print(\"❌ Error placing order:\", str(e))\n",
    "\n"
   ]
  },
  {
   "cell_type": "code",
   "execution_count": 5,
   "id": "9c636940",
   "metadata": {},
   "outputs": [],
   "source": [
    "api_key = 'sukFLC7fY4XmK8o4xQxwSR9K8vPerENrsS9OIJdWVEjrcePfLu5zAKzscp1ZOv0Q'\n",
    "api_secret = 'J4nO87xNjCYLHUH7IP3M66Ntd9bqBsN1d0vJFaKeJS8nKBrF5S7D5Yt4UxwFM3py'\n",
    "bot = BasicBot(api_key, api_secret)\n"
   ]
  },
  {
   "cell_type": "code",
   "execution_count": 16,
   "id": "05f45907",
   "metadata": {},
   "outputs": [
    {
     "name": "stdout",
     "output_type": "stream",
     "text": [
      "❌ Error placing order: APIError(code=None): None\n"
     ]
    }
   ],
   "source": [
    "# ✅ Configure your order\n",
    "symbol = 'BTCUSDT'             # Futures symbol\n",
    "side = SIDE_BUY                # or SIDE_SELL\n",
    "order_type = ORDER_TYPE_MARKET # or ORDER_TYPE_LIMIT / ORDER_TYPE_STOP_MARKET\n",
    "quantity = 0.001               # Amount to buy/sell\n",
    "price = None                   # Required only for LIMIT or STOP_MARKET\n",
    "\n",
    "# ✅ Place the order\n",
    "bot.place_order(symbol, side, order_type, quantity, price)\n"
   ]
  },
  {
   "cell_type": "code",
   "execution_count": null,
   "id": "bc340aba",
   "metadata": {},
   "outputs": [],
   "source": []
  }
 ],
 "metadata": {
  "kernelspec": {
   "display_name": "base",
   "language": "python",
   "name": "python3"
  },
  "language_info": {
   "codemirror_mode": {
    "name": "ipython",
    "version": 3
   },
   "file_extension": ".py",
   "mimetype": "text/x-python",
   "name": "python",
   "nbconvert_exporter": "python",
   "pygments_lexer": "ipython3",
   "version": "3.12.7"
  }
 },
 "nbformat": 4,
 "nbformat_minor": 5
}
